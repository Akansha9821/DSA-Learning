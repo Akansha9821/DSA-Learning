{
 "cells": [
  {
   "cell_type": "markdown",
   "id": "c2a974cd",
   "metadata": {},
   "source": [
    "### you have height of starircase example h = 3\n",
    "### you have to find how many step davis  climb the staircase\n",
    "\n",
    "### Example h= 3\n",
    "### no of height = (1,1,1),(1,2),(2,1),(3)\n",
    "### to no of step = 4"
   ]
  },
  {
   "cell_type": "code",
   "execution_count": 2,
   "id": "bc7a5cba",
   "metadata": {},
   "outputs": [
    {
     "name": "stdout",
     "output_type": "stream",
     "text": [
      "Enter the number of input: 5\n"
     ]
    },
    {
     "data": {
      "text/plain": [
       "13"
      ]
     },
     "execution_count": 2,
     "metadata": {},
     "output_type": "execute_result"
    }
   ],
   "source": [
    "def stepheight(n):\n",
    "    if n ==1:\n",
    "        return 1\n",
    "    if n ==2:\n",
    "        return 2\n",
    "    if n ==3:\n",
    "        return 4\n",
    "    return stepheight(n-1)+stepheight(n-2)+stepheight(n-3)\n",
    "\n",
    "\n",
    "\n",
    "n = int(input(\"Enter the number of input: \"))\n",
    "\n",
    "stepheight(n)"
   ]
  },
  {
   "cell_type": "code",
   "execution_count": 5,
   "id": "e7e85b5e",
   "metadata": {},
   "outputs": [
    {
     "name": "stdout",
     "output_type": "stream",
     "text": [
      "6\n"
     ]
    },
    {
     "data": {
      "text/plain": [
       "24"
      ]
     },
     "execution_count": 5,
     "metadata": {},
     "output_type": "execute_result"
    }
   ],
   "source": [
    "#  using the dynamicprogramming approch\n",
    "def stepheight(n):\n",
    "    if n ==0:\n",
    "        return 0\n",
    "    \n",
    "    d = {}\n",
    "    d[1] = 1\n",
    "    d[2] = 2\n",
    "    d[3] = 4\n",
    "    \n",
    "    if n in d.keys():\n",
    "        return d[n]\n",
    "    else:\n",
    "        d[n] = stepheight(n-1)+stepheight(n-2)+stepheight(n-3)\n",
    "        return d[n]\n",
    "    \n",
    "n = int(input())\n",
    "stepheight(n)\n",
    "    \n",
    "\n",
    "    \n",
    "    \n",
    "    \n",
    "    "
   ]
  },
  {
   "cell_type": "code",
   "execution_count": null,
   "id": "4bc1445f",
   "metadata": {},
   "outputs": [],
   "source": []
  }
 ],
 "metadata": {
  "kernelspec": {
   "display_name": "Python 3 (ipykernel)",
   "language": "python",
   "name": "python3"
  },
  "language_info": {
   "codemirror_mode": {
    "name": "ipython",
    "version": 3
   },
   "file_extension": ".py",
   "mimetype": "text/x-python",
   "name": "python",
   "nbconvert_exporter": "python",
   "pygments_lexer": "ipython3",
   "version": "3.7.0"
  }
 },
 "nbformat": 4,
 "nbformat_minor": 5
}
