{
 "cells": [
  {
   "attachments": {
    "image.png": {
     "image/png": "[encoded data removed]"
    }
   },
   "cell_type": "markdown",
   "id": "381d82ff",
   "metadata": {},
   "source": [
    "### queue is a linear data structure that stores items in First In First Out (FIFO) manner. With a queue the least recently added item is removed first. A good example of queue is any queue of consumers for a resource where the consumer that came first is served first.\n",
    "\n",
    "![image.png](attachment:image.png)\n",
    "\n",
    "#### Operations associated with queue are: \n",
    " \n",
    "\n",
    "Enqueue: Adds an item to the queue. If the queue is full, then it is said to be an Overflow condition – Time Complexity : O(1)\n",
    "\n",
    "\n",
    "Dequeue: Removes an item from the queue. The items are popped in the same order in which they are pushed. If the queue is \n",
    "empty, then it is said to be an Underflow condition – Time Complexity : O(1)\n",
    "\n",
    "\n",
    "Front: Get the front item from queue – Time Complexity : O(1)\n",
    "\n",
    "\n",
    "Rear: Get the last item from queue – Time Complexity : O(1)\n",
    "\n"
   ]
  },
  {
   "cell_type": "markdown",
   "id": "d6df3e77",
   "metadata": {},
   "source": [
    "### In the python their are two way to implimant the queqe  is \n",
    "#### 1. List\n",
    "#### 2. Module"
   ]
  },
  {
   "cell_type": "code",
   "execution_count": 9,
   "id": "13f120d8",
   "metadata": {},
   "outputs": [
    {
     "name": "stdout",
     "output_type": "stream",
     "text": [
      "Select the operation 1. add the element, 2. is for deleting the element\n",
      "1\n",
      "Enter number you want to add :10\n",
      "The queue is : [10]\n",
      "Select the operation 1. add the element, 2. is for deleting the element\n",
      "23\n",
      "Select the operation 1. add the element, 2. is for deleting the element\n",
      "24\n",
      "Select the operation 1. add the element, 2. is for deleting the element\n",
      "45\n",
      "Select the operation 1. add the element, 2. is for deleting the element\n",
      "69\n",
      "Select the operation 1. add the element, 2. is for deleting the element\n",
      "2\n",
      "The deleted element is : 10\n",
      "Select the operation 1. add the element, 2. is for deleting the element\n",
      "2\n",
      "Quee is empty..\n",
      "Select the operation 1. add the element, 2. is for deleting the element\n",
      "1\n",
      "Enter number you want to add :23\n",
      "The queue is : [23]\n",
      "Select the operation 1. add the element, 2. is for deleting the element\n",
      "1\n",
      "Enter number you want to add :24\n",
      "The queue is : [23, 24]\n",
      "Select the operation 1. add the element, 2. is for deleting the element\n",
      "1\n",
      "Enter number you want to add :25\n",
      "The queue is : [23, 24, 25]\n",
      "Select the operation 1. add the element, 2. is for deleting the element\n",
      "1\n",
      "Enter number you want to add :45\n",
      "The queue is : [23, 24, 25, 45]\n",
      "Select the operation 1. add the element, 2. is for deleting the element\n",
      "2\n",
      "The deleted element is : 23\n",
      "Select the operation 1. add the element, 2. is for deleting the element\n"
     ]
    },
    {
     "ename": "KeyboardInterrupt",
     "evalue": "Interrupted by user",
     "output_type": "error",
     "traceback": [
      "\u001b[1;31m---------------------------------------------------------------------------\u001b[0m",
      "\u001b[1;31mKeyboardInterrupt\u001b[0m                         Traceback (most recent call last)",
      "\u001b[1;32m~\\AppData\\Local\\Temp\\ipykernel_21868\\2816542550.py\u001b[0m in \u001b[0;36m<module>\u001b[1;34m\u001b[0m\n\u001b[0;32m     16\u001b[0m \u001b[1;32mwhile\u001b[0m \u001b[1;32mTrue\u001b[0m\u001b[1;33m:\u001b[0m\u001b[1;33m\u001b[0m\u001b[0m\n\u001b[0;32m     17\u001b[0m     \u001b[0mprint\u001b[0m\u001b[1;33m(\u001b[0m\u001b[1;34m\"Select the operation 1. add the element, 2. is for deleting the element\"\u001b[0m\u001b[1;33m)\u001b[0m\u001b[1;33m\u001b[0m\u001b[0m\n\u001b[1;32m---> 18\u001b[1;33m     \u001b[0mchoice\u001b[0m \u001b[1;33m=\u001b[0m \u001b[0mint\u001b[0m\u001b[1;33m(\u001b[0m\u001b[0minput\u001b[0m\u001b[1;33m(\u001b[0m\u001b[1;33m)\u001b[0m\u001b[1;33m)\u001b[0m\u001b[1;33m\u001b[0m\u001b[0m\n\u001b[0m\u001b[0;32m     19\u001b[0m \u001b[1;33m\u001b[0m\u001b[0m\n\u001b[0;32m     20\u001b[0m     \u001b[1;32mif\u001b[0m \u001b[0mchoice\u001b[0m \u001b[1;33m==\u001b[0m \u001b[1;36m1\u001b[0m\u001b[1;33m:\u001b[0m\u001b[1;33m\u001b[0m\u001b[0m\n",
      "\u001b[1;32m~\\Desktop\\jupyter-notebook-folder\\venv\\lib\\site-packages\\ipykernel\\kernelbase.py\u001b[0m in \u001b[0;36mraw_input\u001b[1;34m(self, prompt)\u001b[0m\n\u001b[0;32m   1179\u001b[0m             \u001b[0mself\u001b[0m\u001b[1;33m.\u001b[0m\u001b[0m_parent_ident\u001b[0m\u001b[1;33m[\u001b[0m\u001b[1;34m\"shell\"\u001b[0m\u001b[1;33m]\u001b[0m\u001b[1;33m,\u001b[0m\u001b[1;33m\u001b[0m\u001b[0m\n\u001b[0;32m   1180\u001b[0m             \u001b[0mself\u001b[0m\u001b[1;33m.\u001b[0m\u001b[0mget_parent\u001b[0m\u001b[1;33m(\u001b[0m\u001b[1;34m\"shell\"\u001b[0m\u001b[1;33m)\u001b[0m\u001b[1;33m,\u001b[0m\u001b[1;33m\u001b[0m\u001b[0m\n\u001b[1;32m-> 1181\u001b[1;33m             \u001b[0mpassword\u001b[0m\u001b[1;33m=\u001b[0m\u001b[1;32mFalse\u001b[0m\u001b[1;33m,\u001b[0m\u001b[1;33m\u001b[0m\u001b[0m\n\u001b[0m\u001b[0;32m   1182\u001b[0m         )\n\u001b[0;32m   1183\u001b[0m \u001b[1;33m\u001b[0m\u001b[0m\n",
      "\u001b[1;32m~\\Desktop\\jupyter-notebook-folder\\venv\\lib\\site-packages\\ipykernel\\kernelbase.py\u001b[0m in \u001b[0;36m_input_request\u001b[1;34m(self, prompt, ident, parent, password)\u001b[0m\n\u001b[0;32m   1217\u001b[0m             \u001b[1;32mexcept\u001b[0m \u001b[0mKeyboardInterrupt\u001b[0m\u001b[1;33m:\u001b[0m\u001b[1;33m\u001b[0m\u001b[0m\n\u001b[0;32m   1218\u001b[0m                 \u001b[1;31m# re-raise KeyboardInterrupt, to truncate traceback\u001b[0m\u001b[1;33m\u001b[0m\u001b[1;33m\u001b[0m\u001b[0m\n\u001b[1;32m-> 1219\u001b[1;33m                 \u001b[1;32mraise\u001b[0m \u001b[0mKeyboardInterrupt\u001b[0m\u001b[1;33m(\u001b[0m\u001b[1;34m\"Interrupted by user\"\u001b[0m\u001b[1;33m)\u001b[0m \u001b[1;32mfrom\u001b[0m \u001b[1;32mNone\u001b[0m\u001b[1;33m\u001b[0m\u001b[0m\n\u001b[0m\u001b[0;32m   1220\u001b[0m             \u001b[1;32mexcept\u001b[0m \u001b[0mException\u001b[0m\u001b[1;33m:\u001b[0m\u001b[1;33m\u001b[0m\u001b[0m\n\u001b[0;32m   1221\u001b[0m                 \u001b[0mself\u001b[0m\u001b[1;33m.\u001b[0m\u001b[0mlog\u001b[0m\u001b[1;33m.\u001b[0m\u001b[0mwarning\u001b[0m\u001b[1;33m(\u001b[0m\u001b[1;34m\"Invalid Message:\"\u001b[0m\u001b[1;33m,\u001b[0m \u001b[0mexc_info\u001b[0m\u001b[1;33m=\u001b[0m\u001b[1;32mTrue\u001b[0m\u001b[1;33m)\u001b[0m\u001b[1;33m\u001b[0m\u001b[0m\n",
      "\u001b[1;31mKeyboardInterrupt\u001b[0m: Interrupted by user"
     ]
    }
   ],
   "source": [
    "\n",
    "    quee_list = []\n",
    "    \n",
    "    def enquee():\n",
    "        n = int(input(\"Enter number you want to add :\"))\n",
    "        quee_list.append(n)\n",
    "        print(\"The queue is :\", quee_list)\n",
    "        \n",
    "    def dequee():\n",
    "        if not quee_list:\n",
    "            print(\"Quee is empty..\")\n",
    "        else:\n",
    "            d = quee_list.pop(0)\n",
    "            print(\"The deleted element is :\", d)\n",
    "            \n",
    "   \n",
    "    while True:\n",
    "        print(\"Select the operation 1. add the element, 2. is for deleting the element\")\n",
    "        choice = int(input())\n",
    "        \n",
    "        if choice == 1:\n",
    "            enquee()\n",
    "        elif choice == 2:\n",
    "            dequee()\n",
    "        \n",
    "        \n",
    "            \n",
    "            \n",
    "            \n",
    "            \n",
    "            \n",
    "        \n",
    "        \n",
    "        \n",
    "    "
   ]
  },
  {
   "cell_type": "markdown",
   "id": "fd21ea38",
   "metadata": {},
   "source": [
    "### Deque -method\n",
    "#### deque is double ended queue , that means we can add/remove element from both the ends from right and left both.\n"
   ]
  },
  {
   "cell_type": "code",
   "execution_count": 11,
   "id": "35fc92ff",
   "metadata": {},
   "outputs": [],
   "source": [
    "import collections as c"
   ]
  },
  {
   "cell_type": "code",
   "execution_count": 22,
   "id": "be7ed431",
   "metadata": {},
   "outputs": [
    {
     "name": "stdout",
     "output_type": "stream",
     "text": [
      "deque([50, 40, 30, 20, 10, 26])\n",
      "the deleted element is : 50\n",
      "the deleted element is : 26\n"
     ]
    }
   ],
   "source": [
    "q = c.deque()\n",
    "\n",
    "q.appendleft(10)\n",
    "q.appendleft(20)\n",
    "q.appendleft(30)\n",
    "q.appendleft(40)\n",
    "q.appendleft(50)\n",
    "q.append(26)\n",
    "print(q)\n",
    "l = q.popleft()\n",
    "r = q.pop()\n",
    "\n",
    "print(\"the deleted element is :\", l)\n",
    "print(\"the deleted element is :\", r)"
   ]
  },
  {
   "cell_type": "code",
   "execution_count": 23,
   "id": "881a58de",
   "metadata": {},
   "outputs": [
    {
     "name": "stdout",
     "output_type": "stream",
     "text": [
      "The number 4 first occurs at a position : \n",
      "4\n",
      "The deque after inserting 3 at 5th position is : \n",
      "deque([1, 2, 3, 3, 3, 4, 2, 4])\n",
      "The count of 3 in deque is : \n",
      "3\n",
      "The deque after deleting first occurrence of 3 is : \n",
      "deque([1, 2, 3, 3, 4, 2, 4])\n"
     ]
    }
   ],
   "source": [
    "# Python code to demonstrate working of\n",
    "# insert(), index(), remove(), count()\n",
    "\n",
    "# importing \"collections\" for deque operations\n",
    "import collections\n",
    "\n",
    "# initializing deque\n",
    "de = collections.deque([1, 2, 3, 3, 4, 2, 4])\n",
    "\n",
    "# using index() to print the first occurrence of 4\n",
    "print (\"The number 4 first occurs at a position : \")\n",
    "print (de.index(4,2,5))\n",
    "\n",
    "# using insert() to insert the value 3 at 5th position\n",
    "de.insert(4,3)\n",
    "\n",
    "# printing modified deque\n",
    "print (\"The deque after inserting 3 at 5th position is : \")\n",
    "print (de)\n",
    "\n",
    "# using count() to count the occurrences of 3\n",
    "print (\"The count of 3 in deque is : \")\n",
    "print (de.count(3))\n",
    "\n",
    "# using remove() to remove the first occurrence of 3\n",
    "de.remove(3)\n",
    "\n",
    "# printing modified deque\n",
    "print (\"The deque after deleting first occurrence of 3 is : \")\n",
    "print (de)\n"
   ]
  },
  {
   "cell_type": "markdown",
   "id": "a9eba9d6",
   "metadata": {},
   "source": [
    "### Perority Queue: Workes on periority Example Hospital in hospital if there is lot's of patitent and some patitent have emergency the docter serve emergency patitent on perority\n",
    "\n",
    "### The best way to implement perority queue is Heap"
   ]
  },
  {
   "cell_type": "code",
   "execution_count": 25,
   "id": "ea788aa2",
   "metadata": {},
   "outputs": [],
   "source": [
    "import queue as qu"
   ]
  },
  {
   "cell_type": "code",
   "execution_count": 29,
   "id": "46444685",
   "metadata": {},
   "outputs": [
    {
     "name": "stdout",
     "output_type": "stream",
     "text": [
      "Before Enter the element : <queue.PriorityQueue object at 0x000001A44DA29080>\n",
      "After Removing the element : <queue.PriorityQueue object at 0x000001A44DA29080>\n",
      "After deleting the element from queue : 10\n"
     ]
    }
   ],
   "source": [
    "q = qu.PriorityQueue()\n",
    "print(\"Before Enter the element :\", q)\n",
    "\n",
    "q.put(10)\n",
    "q.put(20)\n",
    "q.put(30)\n",
    "q.put(40)\n",
    "q.put(50)\n",
    "\n",
    "print(\"After Removing the element :\", q)\n",
    "\n",
    "d = q.get()\n",
    "print(\"After deleting the element from queue :\", d)"
   ]
  },
  {
   "cell_type": "code",
   "execution_count": null,
   "id": "16881d37",
   "metadata": {},
   "outputs": [],
   "source": []
  }
 ],
 "metadata": {
  "kernelspec": {
   "display_name": "Python 3 (ipykernel)",
   "language": "python",
   "name": "python3"
  },
  "language_info": {
   "codemirror_mode": {
    "name": "ipython",
    "version": 3
   },
   "file_extension": ".py",
   "mimetype": "text/x-python",
   "name": "python",
   "nbconvert_exporter": "python",
   "pygments_lexer": "ipython3",
   "version": "3.7.0"
  }
 },
 "nbformat": 4,
 "nbformat_minor": 5
}
