{
 "cells": [
  {
   "cell_type": "code",
   "execution_count": 17,
   "id": "51c4239c",
   "metadata": {},
   "outputs": [],
   "source": [
    "class Node:\n",
    "    def __init__(self, value):\n",
    "        self.data = value\n",
    "        self.left = None\n",
    "        self.right = None"
   ]
  },
  {
   "cell_type": "code",
   "execution_count": 23,
   "id": "1a55a29b",
   "metadata": {},
   "outputs": [],
   "source": [
    "class Tree:\n",
    "    def createRootnode(self, data):\n",
    "        return Node(data)\n",
    "    \n",
    "    def insert_node(self, node, data):\n",
    "        if node == None:\n",
    "            return self.createRootnode(data)\n",
    "        \n",
    "        if data < node.data:\n",
    "            node.left = self.insert_node(node.left, data)\n",
    "        else:\n",
    "            node.right = self.insert_node(node.right, data)\n",
    "        return node\n",
    "    \n",
    "    def Inorder_travesal(self, root):\n",
    "        if root is not None:\n",
    "            self.Inorder_travesal(root.left)\n",
    "            print(root.data)\n",
    "            self.Inorder_travesal(root.right)\n",
    "            \n",
    "            \n",
    "            \n",
    "    def Preorder_travesal(self, root):\n",
    "        if root is not None:\n",
    "            print(root.data)\n",
    "            self.Preorder_travesal(root.left)\n",
    "            self.Preorder_travesal(root.right)\n",
    "            \n",
    "    def Postorder_travesal(self, root):\n",
    "        if root is not None:\n",
    "            self.Preorder_travesal(root.left)\n",
    "            self.Preorder_travesal(root.right)\n",
    "            print(root.data)\n",
    "            \n",
    "            \n",
    "    def checkheight(self, root):\n",
    "        if root == None:\n",
    "            return -1\n",
    "        else:\n",
    "            return max(self.checkheight(root.left),self.checkheight(root.right))+1\n",
    "                \n",
    "                \n",
    "        \n"
   ]
  },
  {
   "cell_type": "code",
   "execution_count": 24,
   "id": "509fdee8",
   "metadata": {},
   "outputs": [
    {
     "name": "stdout",
     "output_type": "stream",
     "text": [
      "5\n",
      "Inorder Traverasal -->\n",
      "2\n",
      "5\n",
      "6\n",
      "7\n",
      "8\n",
      "10\n",
      "12\n",
      "15\n",
      "20\n",
      "30\n",
      "PreOrder Traversal -->\n",
      "5\n",
      "2\n",
      "10\n",
      "7\n",
      "6\n",
      "8\n",
      "15\n",
      "12\n",
      "20\n",
      "30\n",
      "PostOrder Traversal -->\n",
      "2\n",
      "10\n",
      "7\n",
      "6\n",
      "8\n",
      "15\n",
      "12\n",
      "20\n",
      "30\n",
      "5\n",
      "Check Height\n"
     ]
    },
    {
     "data": {
      "text/plain": [
       "4"
      ]
     },
     "execution_count": 24,
     "metadata": {},
     "output_type": "execute_result"
    }
   ],
   "source": [
    "tree = Tree()\n",
    "root = tree.createRootnode(5)\n",
    "print(root.data)\n",
    "tree.insert_node(root, 2)\n",
    "tree.insert_node(root, 10)\n",
    "tree.insert_node(root, 7)\n",
    "tree.insert_node(root, 15)\n",
    "tree.insert_node(root, 12)\n",
    "tree.insert_node(root, 20)\n",
    "tree.insert_node(root, 30)\n",
    "tree.insert_node(root, 6)\n",
    "tree.insert_node(root, 8)\n",
    "\n",
    "\n",
    "\n",
    "print(\"Inorder Traverasal -->\")\n",
    "tree.Inorder_travesal(root)\n",
    "\n",
    "\n",
    "print(\"PreOrder Traversal -->\")\n",
    "tree.Preorder_travesal(root)\n",
    "\n",
    "print(\"PostOrder Traversal -->\")\n",
    "tree.Postorder_travesal(root)\n",
    "\n",
    "\n",
    "print(\"Check Height\")\n",
    "tree.checkheight(root)"
   ]
  },
  {
   "cell_type": "code",
   "execution_count": 1,
   "id": "1c4fb5d3",
   "metadata": {},
   "outputs": [
    {
     "name": "stdout",
     "output_type": "stream",
     "text": [
      "7\n",
      "Inorder -> Traversal ==> 5\n",
      "Inorder -> Traversal ==> 7\n",
      "Inorder -> Traversal ==> 10\n"
     ]
    },
    {
     "data": {
      "text/plain": [
       "1"
      ]
     },
     "execution_count": 1,
     "metadata": {},
     "output_type": "execute_result"
    }
   ],
   "source": [
    "class Node:\n",
    "    def __init__(self, data):\n",
    "        self.data = data\n",
    "        self.left = None\n",
    "        self.right = None\n",
    "\n",
    "\n",
    "class Tree:\n",
    "    def createnode(self, data):\n",
    "        return Node(data)\n",
    "\n",
    "\n",
    "    def insertnode(self, root, data):\n",
    "        if root is None:\n",
    "            return self.createnode(data)\n",
    "\n",
    "        if data < root.data:\n",
    "            root.left = self.insertnode(root.left, data)\n",
    "\n",
    "        else:\n",
    "            root.right = self.insertnode(root.right, data)\n",
    "\n",
    "        return root\n",
    "\n",
    "\n",
    "    def inordertraversal(self, root):\n",
    "        if root is not None:\n",
    "            self.inordertraversal(root.left)\n",
    "            print(\"Inorder -> Traversal ==>\", root.data)\n",
    "            self.inordertraversal(root.right)\n",
    "\n",
    "\n",
    "    def height(self, root):\n",
    "        if root == None:\n",
    "            return -1\n",
    "        else:\n",
    "            return max(self.height(root.left), self.height(root.right))+1\n",
    "\n",
    "\n",
    "\n",
    "tree = Tree()\n",
    "root = tree.createnode(7)\n",
    "print(root.data)\n",
    "\n",
    "tree.insertnode(root, 5)\n",
    "tree.insertnode(root, 10)\n",
    "\n",
    "tree.inordertraversal(root)\n",
    "\n",
    "tree.height(root)\n"
   ]
  },
  {
   "cell_type": "code",
   "execution_count": null,
   "id": "e75b7120",
   "metadata": {},
   "outputs": [],
   "source": []
  }
 ],
 "metadata": {
  "kernelspec": {
   "display_name": "Python 3 (ipykernel)",
   "language": "python",
   "name": "python3"
  },
  "language_info": {
   "codemirror_mode": {
    "name": "ipython",
    "version": 3
   },
   "file_extension": ".py",
   "mimetype": "text/x-python",
   "name": "python",
   "nbconvert_exporter": "python",
   "pygments_lexer": "ipython3",
   "version": "3.7.0"
  }
 },
 "nbformat": 4,
 "nbformat_minor": 5
}
