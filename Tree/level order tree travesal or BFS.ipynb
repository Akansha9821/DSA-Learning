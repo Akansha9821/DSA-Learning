{
 "cells": [
  {
   "cell_type": "code",
   "execution_count": 1,
   "id": "0371b489",
   "metadata": {},
   "outputs": [],
   "source": [
    "class Node:\n",
    "    def __init__(self, data):\n",
    "        self.data = data\n",
    "        self.left = None\n",
    "        self.right = None"
   ]
  },
  {
   "cell_type": "code",
   "execution_count": 4,
   "id": "8cfffb37",
   "metadata": {},
   "outputs": [],
   "source": [
    "class Tree:\n",
    "    def rootnode(self, data):\n",
    "        return Node(data)\n",
    "    \n",
    "    def insertnode(self, root, data):\n",
    "        if root is None:\n",
    "            return self.rootnode(data)\n",
    "        \n",
    "        if data < root.data:\n",
    "            root.left = self.insertnode(root.left, data)\n",
    "        else:\n",
    "            root.right = self.insertnode(root.right, data)\n",
    "            \n",
    "        return root\n",
    "    \n",
    "    def level_order_traversal(self, root):\n",
    "        queue = []\n",
    "        queue.append(root)\n",
    "        while len(queue) != 0:\n",
    "            root = queue.pop(0)\n",
    "            print(root.data, end = ',')\n",
    "\n",
    "            \n",
    "            if root.left is not None:\n",
    "                queue.append(root.left)\n",
    "                \n",
    "            if root.right is not None:\n",
    "                queue.append(root.right)\n",
    "                \n",
    "            \n",
    "    "
   ]
  },
  {
   "cell_type": "code",
   "execution_count": 6,
   "id": "e9926091",
   "metadata": {},
   "outputs": [
    {
     "name": "stdout",
     "output_type": "stream",
     "text": [
      "5,3,9,2,4,7,10,"
     ]
    }
   ],
   "source": [
    "obj = Tree()\n",
    "root = obj.rootnode(5)\n",
    "obj.insertnode(root, 3)\n",
    "obj.insertnode(root, 9)\n",
    "obj.insertnode(root, 2)\n",
    "obj.insertnode(root, 4)\n",
    "obj.insertnode(root, 7)\n",
    "obj.insertnode(root, 10)\n",
    "obj.level_order_traversal(root)\n",
    "\n"
   ]
  },
  {
   "cell_type": "code",
   "execution_count": null,
   "id": "d7abbe2f",
   "metadata": {},
   "outputs": [],
   "source": []
  }
 ],
 "metadata": {
  "kernelspec": {
   "display_name": "Python 3 (ipykernel)",
   "language": "python",
   "name": "python3"
  },
  "language_info": {
   "codemirror_mode": {
    "name": "ipython",
    "version": 3
   },
   "file_extension": ".py",
   "mimetype": "text/x-python",
   "name": "python",
   "nbconvert_exporter": "python",
   "pygments_lexer": "ipython3",
   "version": "3.7.0"
  }
 },
 "nbformat": 4,
 "nbformat_minor": 5
}
