{
 "cells": [
  {
   "cell_type": "code",
   "execution_count": 1,
   "id": "cb7935bb",
   "metadata": {},
   "outputs": [],
   "source": [
    "class Node:\n",
    "    def __init__(self, data):\n",
    "        self.data = data\n",
    "        self.left = None\n",
    "        self.right = None\n",
    "        self.level = None"
   ]
  },
  {
   "cell_type": "code",
   "execution_count": 7,
   "id": "e21b5fc6",
   "metadata": {},
   "outputs": [],
   "source": [
    "class Tree:\n",
    "    def rootnode(self, data):\n",
    "        return Node(data)\n",
    "    \n",
    "    def insertnode(self, root, data):\n",
    "        if root is None:\n",
    "            return self.rootnode(data)\n",
    "        \n",
    "        if data < root.data:\n",
    "            root.left = self.insertnode(root.left, data)\n",
    "        else:\n",
    "            root.right = self.insertnode(root.right, data)\n",
    "            \n",
    "        return root\n",
    "    \n",
    "    def topviewtree(self, root):\n",
    "        q = []\n",
    "        d = {}\n",
    "        root.level = 0\n",
    "        q.append(root)\n",
    "        while len(q) != 0:\n",
    "            root = q.pop(0)\n",
    "            \n",
    "            if root.level not in d:\n",
    "                d[root.level] = root.data\n",
    "                \n",
    "            if root.left != None:\n",
    "                q.append(root.left)\n",
    "                root.left.level= root.level -1\n",
    "                \n",
    "            if root.right != None:\n",
    "                q.append(root.right)\n",
    "                root.right.level = root.level + 1\n",
    "                \n",
    "        for i in d:\n",
    "            print(d[i], end=\"\")\n",
    "        \n",
    "        \n",
    "        "
   ]
  },
  {
   "cell_type": "code",
   "execution_count": 8,
   "id": "a8e69f52",
   "metadata": {},
   "outputs": [
    {
     "name": "stdout",
     "output_type": "stream",
     "text": [
      "1234567"
     ]
    }
   ],
   "source": [
    "obj = Tree()\n",
    "root = obj.rootnode(1)\n",
    "obj.insertnode(root, 2)\n",
    "obj.insertnode(root, 3)\n",
    "obj.insertnode(root, 4)\n",
    "obj.insertnode(root, 5)\n",
    "obj.insertnode(root, 6)\n",
    "obj.insertnode(root, 7)\n",
    "obj.topviewtree(root)"
   ]
  },
  {
   "cell_type": "code",
   "execution_count": null,
   "id": "8fbcc000",
   "metadata": {},
   "outputs": [],
   "source": []
  }
 ],
 "metadata": {
  "kernelspec": {
   "display_name": "Python 3 (ipykernel)",
   "language": "python",
   "name": "python3"
  },
  "language_info": {
   "codemirror_mode": {
    "name": "ipython",
    "version": 3
   },
   "file_extension": ".py",
   "mimetype": "text/x-python",
   "name": "python",
   "nbconvert_exporter": "python",
   "pygments_lexer": "ipython3",
   "version": "3.7.0"
  }
 },
 "nbformat": 4,
 "nbformat_minor": 5
}
