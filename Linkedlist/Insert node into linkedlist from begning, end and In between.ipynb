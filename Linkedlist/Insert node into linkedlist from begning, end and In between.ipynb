{
 "cells": [
  {
   "cell_type": "code",
   "execution_count": 1,
   "id": "3706c48a",
   "metadata": {},
   "outputs": [],
   "source": [
    "class Node:\n",
    "    def __init__(self, data):\n",
    "        self.data = data\n",
    "        self.ref = None"
   ]
  },
  {
   "cell_type": "code",
   "execution_count": 11,
   "id": "fe7e9018",
   "metadata": {},
   "outputs": [],
   "source": [
    "class LLD:\n",
    "    def __init__(self):\n",
    "        self.head = None\n",
    "    \n",
    "    def print_lld(self):\n",
    "        if self.head == None:\n",
    "            print(\"Empty LinkedList\")\n",
    "        else:\n",
    "            n = self.head\n",
    "            while n != None:\n",
    "                print(n.data)\n",
    "                n = n.ref\n",
    "                \n",
    "    def insert_node(self, data):\n",
    "        n = Node(data)\n",
    "        n.ref = self.head\n",
    "        self.head = n\n",
    "        \n",
    "     \n",
    "    def insert_end(self, data):\n",
    "        return self.insert_node(data)\n",
    "        \n",
    "        \n",
    "    def insert_begin(self, data):\n",
    "        n = Node(data)\n",
    "        \n",
    "        if n is None:\n",
    "            self.head = n\n",
    "        else:\n",
    "            c_n = self.head\n",
    "            while c_n.ref != None:\n",
    "                c_n = c_n.ref\n",
    "            c_n.ref = n\n",
    "            \n",
    "    def insert_indx(self, data, i):\n",
    "        n = Node(data)\n",
    "        h = self.head\n",
    "        c = 1\n",
    "        while True:\n",
    "            if n == None:\n",
    "                break\n",
    "            c +=1\n",
    "            if h == i:\n",
    "                n.ref = h.ref\n",
    "                h.ref = n\n",
    "                \n",
    "    def insert_indx(self, data, x):\n",
    "        n = Node(data)\n",
    "        h= self.head\n",
    "        c = 1\n",
    "        if h ==None:\n",
    "            self.insert_node(data)\n",
    "        else:\n",
    "            while c < x-1:\n",
    "                h = h.next\n",
    "                c +=1\n",
    "                \n",
    "            n.next = h.next\n",
    "            h.next= n\n",
    "            \n",
    "            \n",
    "            "
   ]
  },
  {
   "cell_type": "code",
   "execution_count": null,
   "id": "0203018a",
   "metadata": {},
   "outputs": [],
   "source": [
    "obj = LLD()\n",
    "obj.insert_node(10)\n",
    "obj.insert_node(20)\n",
    "obj.insert_node(30)\n",
    "obj.insert_node(40)\n",
    "obj.insert_end(100)\n",
    "obj.insert_begin(200)\n",
    "obj.insert_indx(23, 4)\n",
    "obj.print_lld()\n"
   ]
  },
  {
   "cell_type": "code",
   "execution_count": null,
   "id": "c8b5d089",
   "metadata": {},
   "outputs": [],
   "source": []
  }
 ],
 "metadata": {
  "kernelspec": {
   "display_name": "Python 3 (ipykernel)",
   "language": "python",
   "name": "python3"
  },
  "language_info": {
   "codemirror_mode": {
    "name": "ipython",
    "version": 3
   },
   "file_extension": ".py",
   "mimetype": "text/x-python",
   "name": "python",
   "nbconvert_exporter": "python",
   "pygments_lexer": "ipython3",
   "version": "3.7.0"
  }
 },
 "nbformat": 4,
 "nbformat_minor": 5
}
