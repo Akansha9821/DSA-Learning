{
 "cells": [
  {
   "cell_type": "code",
   "execution_count": 1,
   "id": "de04560a",
   "metadata": {},
   "outputs": [],
   "source": [
    "class Node:\n",
    "    def __init__(self, data):\n",
    "        self.data = data\n",
    "        self.next = None"
   ]
  },
  {
   "cell_type": "code",
   "execution_count": 24,
   "id": "6bca3f4d",
   "metadata": {},
   "outputs": [],
   "source": [
    "class LLD:\n",
    "    def __init__(self):\n",
    "        self.head = None\n",
    "        \n",
    "    def insert_node(self, data):\n",
    "        n = Node(data)\n",
    "        n.next = self.head\n",
    "        self.head = n\n",
    "        \n",
    "    def print_node(self):\n",
    "        h = self.head\n",
    "        if h == None:\n",
    "            print(\"Empty Linkedlist\")\n",
    "        else:\n",
    "            while h != None:\n",
    "                print(h.data)\n",
    "                h = h.next\n",
    "                \n",
    "                \n",
    "#     def reverse_two_node(self):\n",
    "#         p1 = self.head\n",
    "#         p2 = p1.next\n",
    "        \n",
    "#         if p2.next == None:\n",
    "#             p2.next = p1\n",
    "#             p1.next = None\n",
    "            \n",
    "#         self.head = p2\n",
    "    \n",
    "            \n",
    "            \n",
    "        "
   ]
  },
  {
   "cell_type": "code",
   "execution_count": 23,
   "id": "fc3b3930",
   "metadata": {},
   "outputs": [
    {
     "name": "stdout",
     "output_type": "stream",
     "text": [
      "40\n",
      "30\n",
      "20\n",
      "10\n"
     ]
    }
   ],
   "source": [
    "o = LLD()\n",
    "o.insert_node(10)\n",
    "o.insert_node(20)\n",
    "o.insert_node(30)\n",
    "o.insert_node(40)\n",
    "o.print_node()\n"
   ]
  },
  {
   "cell_type": "code",
   "execution_count": null,
   "id": "d814df20",
   "metadata": {},
   "outputs": [],
   "source": []
  }
 ],
 "metadata": {
  "kernelspec": {
   "display_name": "Python 3 (ipykernel)",
   "language": "python",
   "name": "python3"
  },
  "language_info": {
   "codemirror_mode": {
    "name": "ipython",
    "version": 3
   },
   "file_extension": ".py",
   "mimetype": "text/x-python",
   "name": "python",
   "nbconvert_exporter": "python",
   "pygments_lexer": "ipython3",
   "version": "3.7.0"
  }
 },
 "nbformat": 4,
 "nbformat_minor": 5
}
