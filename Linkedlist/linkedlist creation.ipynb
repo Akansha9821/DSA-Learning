{
 "cells": [
  {
   "cell_type": "code",
   "execution_count": 3,
   "id": "42d4a233",
   "metadata": {},
   "outputs": [],
   "source": [
    "class Node:\n",
    "    def __init__(self, data):\n",
    "        self.data = data\n",
    "        self.ref = None"
   ]
  },
  {
   "cell_type": "code",
   "execution_count": 4,
   "id": "fa126019",
   "metadata": {},
   "outputs": [],
   "source": [
    "class LLD:\n",
    "    def __init__(self):\n",
    "        self.head = None\n",
    "        \n",
    "    def print_lld(self):\n",
    "        if self.head == None:\n",
    "            print(\"Empty Linked List\")\n",
    "        else:\n",
    "            print_lld = self.head\n",
    "            while print_lld != None:\n",
    "                print(print_lld.data)\n",
    "                print_lld = print_lld.ref\n",
    "                \n",
    "                \n",
    "    def insert_node(self, data):\n",
    "        n1 = Node(data)\n",
    "        n1.ref = self.head\n",
    "        self.head = n1\n",
    "    \n",
    "        \n",
    "    def count_node(self):\n",
    "        c_node = self.head\n",
    "        self.visited = 0\n",
    "        \n",
    "        while True:\n",
    "            if c_node is None:\n",
    "                print(\"liked list Empty\")\n",
    "                break\n",
    "            \n",
    "            c_node = c_node.ref\n",
    "            self.visited += 1\n",
    "        print(\"Count of Number of node present\", self.visited)\n",
    "        \n",
    "        \n",
    "        \n",
    "                "
   ]
  },
  {
   "cell_type": "code",
   "execution_count": 5,
   "id": "a0eda143",
   "metadata": {},
   "outputs": [
    {
     "name": "stdout",
     "output_type": "stream",
     "text": [
      "500\n",
      "400\n",
      "300\n",
      "200\n",
      "100\n",
      "liked list Empty\n",
      "Count of Number of node present 5\n"
     ]
    }
   ],
   "source": [
    "obj = LLD()\n",
    "obj.insert_node(100)\n",
    "obj.insert_node(200)\n",
    "obj.insert_node(300)\n",
    "obj.insert_node(400)\n",
    "obj.insert_node(500)\n",
    "obj.print_lld()\n",
    "obj.count_node()\n"
   ]
  },
  {
   "cell_type": "code",
   "execution_count": null,
   "id": "d9468074",
   "metadata": {},
   "outputs": [],
   "source": []
  },
  {
   "cell_type": "code",
   "execution_count": null,
   "id": "d23400c6",
   "metadata": {},
   "outputs": [],
   "source": []
  }
 ],
 "metadata": {
  "kernelspec": {
   "display_name": "Python 3 (ipykernel)",
   "language": "python",
   "name": "python3"
  },
  "language_info": {
   "codemirror_mode": {
    "name": "ipython",
    "version": 3
   },
   "file_extension": ".py",
   "mimetype": "text/x-python",
   "name": "python",
   "nbconvert_exporter": "python",
   "pygments_lexer": "ipython3",
   "version": "3.7.0"
  }
 },
 "nbformat": 4,
 "nbformat_minor": 5
}
