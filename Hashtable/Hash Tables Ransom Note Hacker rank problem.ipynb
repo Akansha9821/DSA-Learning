{
 "cells": [
  {
   "cell_type": "markdown",
   "id": "2a53e4d0",
   "metadata": {},
   "source": [
    "### Given the words in the magazine and the words in the ransom note, print Yes if he can replicate his ransom ### note exactly using whole words from the magazine; otherwise, print No.\n",
    "\n",
    "### Example\n",
    "##### magazine = \"attack at dawn\" , note= \"Attack at dawn\"\n",
    "##### The magazine has all the right words, but there is a case mismatch. The answer is NO\n",
    "\n",
    "\n",
    "### Sample Input \n",
    "\n",
    "#### give me one grand today night\n",
    "#### give one grand today\n",
    "\n",
    "### Sample Output \n",
    "\n",
    "#### Yes"
   ]
  },
  {
   "cell_type": "code",
   "execution_count": 29,
   "id": "13776ff8",
   "metadata": {},
   "outputs": [
    {
     "name": "stdout",
     "output_type": "stream",
     "text": [
      "True\n"
     ]
    },
    {
     "data": {
      "text/plain": [
       "'Yes'"
      ]
     },
     "execution_count": 29,
     "metadata": {},
     "output_type": "execute_result"
    }
   ],
   "source": [
    "inp1 = \"give me one grand grand grand today night\"\n",
    "inp2 = \"give one grand today\"\n",
    "from collections import Counter\n",
    "def checksubstring(inp1, inp2):\n",
    "    a = Counter(inp1.split())\n",
    "    b = Counter(inp2.split())\n",
    "    for k, v in b.items():\n",
    "        print(b[k] == v)\n",
    "        if k in a and b[k] >= v:\n",
    "            return \"Yes\"\n",
    "        else:\n",
    "            return \"No\"\n",
    "        \n",
    "    \n",
    "checksubstring(inp1, inp2)"
   ]
  },
  {
   "cell_type": "code",
   "execution_count": null,
   "id": "69384d87",
   "metadata": {},
   "outputs": [],
   "source": []
  },
  {
   "cell_type": "code",
   "execution_count": null,
   "id": "a7c4d946",
   "metadata": {},
   "outputs": [],
   "source": []
  }
 ],
 "metadata": {
  "kernelspec": {
   "display_name": "Python 3 (ipykernel)",
   "language": "python",
   "name": "python3"
  },
  "language_info": {
   "codemirror_mode": {
    "name": "ipython",
    "version": 3
   },
   "file_extension": ".py",
   "mimetype": "text/x-python",
   "name": "python",
   "nbconvert_exporter": "python",
   "pygments_lexer": "ipython3",
   "version": "3.7.0"
  }
 },
 "nbformat": 4,
 "nbformat_minor": 5
}
