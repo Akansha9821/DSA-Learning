{
 "cells": [
  {
   "cell_type": "code",
   "execution_count": 3,
   "id": "2507a629",
   "metadata": {},
   "outputs": [
    {
     "data": {
      "text/plain": [
       "'Yes'"
      ]
     },
     "execution_count": 3,
     "metadata": {},
     "output_type": "execute_result"
    }
   ],
   "source": [
    "from collections import Counter\n",
    "\n",
    "s1 = \"Hello\"\n",
    "s2 = \"World\"\n",
    "flag = False\n",
    "def checkstring(s1, s2):\n",
    "    for i in s1:\n",
    "        if i in s2:\n",
    "            flag=True\n",
    "        else:\n",
    "            flag = False\n",
    "            \n",
    "    if flag:\n",
    "        return \"Yes\"\n",
    "    else:\n",
    "        return \"False\"\n",
    "        \n",
    "        \n",
    "checkstring(s1, s2)      "
   ]
  },
  {
   "cell_type": "code",
   "execution_count": null,
   "id": "ef5fd789",
   "metadata": {},
   "outputs": [],
   "source": [
    "def checkheaptree(s1, s2):\n",
    "    flag = False\n",
    "    a = Counter(s1)\n",
    "    for i in s2:\n",
    "        if i in a.keys():\n",
    "            flag = True\n",
    "        else:\n",
    "            flag = False\n",
    "            \n",
    "    if flag:\n",
    "        return \n",
    "            "
   ]
  }
 ],
 "metadata": {
  "kernelspec": {
   "display_name": "Python 3 (ipykernel)",
   "language": "python",
   "name": "python3"
  },
  "language_info": {
   "codemirror_mode": {
    "name": "ipython",
    "version": 3
   },
   "file_extension": ".py",
   "mimetype": "text/x-python",
   "name": "python",
   "nbconvert_exporter": "python",
   "pygments_lexer": "ipython3",
   "version": "3.7.0"
  }
 },
 "nbformat": 4,
 "nbformat_minor": 5
}
