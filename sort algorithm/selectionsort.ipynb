{
 "cells": [
  {
   "cell_type": "code",
   "execution_count": 2,
   "id": "a10eeee5",
   "metadata": {},
   "outputs": [
    {
     "data": {
      "text/plain": [
       "[0, 4, 10, 15, 23]"
      ]
     },
     "execution_count": 2,
     "metadata": {},
     "output_type": "execute_result"
    }
   ],
   "source": [
    "def selection_sort(l):\n",
    "    for i in range(len(l)):\n",
    "        min_ele = min(l[i:])\n",
    "        min_ele_index = l.index(min_ele)\n",
    "        l[i], l[min_ele_index] = l[min_ele_index], l[i]\n",
    "        \n",
    "    return l\n",
    "   \n",
    "    \n",
    "selection_sort(l = [10, 15, 4, 23,0])"
   ]
  },
  {
   "cell_type": "code",
   "execution_count": null,
   "id": "6037c116",
   "metadata": {},
   "outputs": [],
   "source": []
  }
 ],
 "metadata": {
  "kernelspec": {
   "display_name": "Python 3 (ipykernel)",
   "language": "python",
   "name": "python3"
  },
  "language_info": {
   "codemirror_mode": {
    "name": "ipython",
    "version": 3
   },
   "file_extension": ".py",
   "mimetype": "text/x-python",
   "name": "python",
   "nbconvert_exporter": "python",
   "pygments_lexer": "ipython3",
   "version": "3.7.0"
  }
 },
 "nbformat": 4,
 "nbformat_minor": 5
}
