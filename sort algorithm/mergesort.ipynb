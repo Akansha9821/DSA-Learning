{
 "cells": [
  {
   "cell_type": "code",
   "execution_count": 17,
   "id": "22781141",
   "metadata": {},
   "outputs": [
    {
     "data": {
      "text/plain": [
       "[1, 2, 1]"
      ]
     },
     "execution_count": 17,
     "metadata": {},
     "output_type": "execute_result"
    }
   ],
   "source": [
    "def merge(a1,a2):\n",
    "    c=[]\n",
    "    x = 0\n",
    "    y = 0\n",
    "   while(x<len(a1) and y<len(a2)):\n",
    "      if(a1[x]<a2[y]):\n",
    "         c.append(a1[x])\n",
    "         x+=1\n",
    "      else:\n",
    "         c.append(a2[y])\n",
    "         y+=1\n",
    "   while(x<len(a1)):\n",
    "      c.append(a1[x])\n",
    "      x+=1\n",
    "   while(y<len(a2)):\n",
    "      c.append(a2[y])\n",
    "      y+=1\n",
    "   return c\n",
    "\n",
    "\n",
    "def mergesort(arr):\n",
    "    if len(arr) <= 1:\n",
    "        return arr\n",
    "   \n",
    "    mid = len(arr)//2\n",
    "    left = mergesort(arr[:mid])\n",
    "    right = mergesort(arr[mid:])\n",
    "    return merge(left, right)\n",
    "        \n",
    "        \n",
    "mergesort(arr=[2,3,1,5,4,6,8,10,7,9])"
   ]
  },
  {
   "cell_type": "code",
   "execution_count": null,
   "id": "08a184ed",
   "metadata": {},
   "outputs": [],
   "source": []
  },
  {
   "cell_type": "code",
   "execution_count": null,
   "id": "f327a47e",
   "metadata": {},
   "outputs": [],
   "source": []
  }
 ],
 "metadata": {
  "kernelspec": {
   "display_name": "Python 3 (ipykernel)",
   "language": "python",
   "name": "python3"
  },
  "language_info": {
   "codemirror_mode": {
    "name": "ipython",
    "version": 3
   },
   "file_extension": ".py",
   "mimetype": "text/x-python",
   "name": "python",
   "nbconvert_exporter": "python",
   "pygments_lexer": "ipython3",
   "version": "3.7.0"
  }
 },
 "nbformat": 4,
 "nbformat_minor": 5
}
