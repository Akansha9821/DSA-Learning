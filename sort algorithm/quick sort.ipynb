{
 "cells": [
  {
   "cell_type": "code",
   "execution_count": 17,
   "id": "3331b1db",
   "metadata": {},
   "outputs": [
    {
     "data": {
      "text/plain": [
       "[3, 10, 15, 17, 18, 19, 35, 38, 45, 47]"
      ]
     },
     "execution_count": 17,
     "metadata": {},
     "output_type": "execute_result"
    }
   ],
   "source": [
    "def quick_sort(arr):\n",
    "    if len(arr) <= 1:\n",
    "        return arr\n",
    "    else:\n",
    "        pivot = arr.pop()\n",
    "        \n",
    "    left = []\n",
    "    right = []\n",
    "    \n",
    "    for i in arr:\n",
    "        if i < pivot:\n",
    "            left.append(i)\n",
    "        \n",
    "            \n",
    "        if i > pivot:\n",
    "            right.append(i)\n",
    "            \n",
    "    return quick_sort(left)+ [pivot]+ quick_sort(right)\n",
    "            \n",
    "        \n",
    "    \n",
    "quick_sort(arr = [10, 15, 3, 18, 45, 35, 17, 19, 47, 38])"
   ]
  },
  {
   "cell_type": "code",
   "execution_count": null,
   "id": "e672364f",
   "metadata": {},
   "outputs": [],
   "source": []
  }
 ],
 "metadata": {
  "kernelspec": {
   "display_name": "Python 3 (ipykernel)",
   "language": "python",
   "name": "python3"
  },
  "language_info": {
   "codemirror_mode": {
    "name": "ipython",
    "version": 3
   },
   "file_extension": ".py",
   "mimetype": "text/x-python",
   "name": "python",
   "nbconvert_exporter": "python",
   "pygments_lexer": "ipython3",
   "version": "3.7.0"
  }
 },
 "nbformat": 4,
 "nbformat_minor": 5
}
