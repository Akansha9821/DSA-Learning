{
 "cells": [
  {
   "cell_type": "code",
   "execution_count": 11,
   "id": "3f3905c9",
   "metadata": {},
   "outputs": [
    {
     "name": "stdout",
     "output_type": "stream",
     "text": [
      "enter the limit of stack: 3\n",
      "Select the opration 1.Push, 2.Pop, 3.exit\n",
      "enter the choice:1\n",
      "Enter the element you want to enter :10\n",
      "Select the opration 1.Push, 2.Pop, 3.exit\n",
      "enter the choice:1\n",
      "Enter the element you want to enter :20\n",
      "Select the opration 1.Push, 2.Pop, 3.exit\n",
      "enter the choice:1\n",
      "Enter the element you want to enter :30\n",
      "Select the opration 1.Push, 2.Pop, 3.exit\n",
      "enter the choice:1\n",
      "Stack overflow...\n",
      "Select the opration 1.Push, 2.Pop, 3.exit\n",
      "enter the choice:2\n",
      "The Deleted Element is 30\n",
      "['10', '20']\n",
      "Select the opration 1.Push, 2.Pop, 3.exit\n",
      "enter the choice:3\n"
     ]
    }
   ],
   "source": [
    "stack = []\n",
    "def create_stack():\n",
    "    if len(stack) == limit:\n",
    "        print(\"Stack overflow...\")\n",
    "    else:\n",
    "        \n",
    "        element = input(\"Enter the element you want to enter :\")\n",
    "        stack.append(element)\n",
    "    \n",
    "def pop_element():\n",
    "    if not stack:\n",
    "        print(\"Empty Stack\")\n",
    "    else:\n",
    "        e = stack.pop()\n",
    "        print(\"The Deleted Element is\", e)\n",
    "        print(stack)\n",
    "        \n",
    "limit = int(input(\"enter the limit of stack: \"))        \n",
    "while True:\n",
    "    print(\"Select the opration 1.Push, 2.Pop, 3.exit\")\n",
    "    choice = int(input(\"enter the choice:\"))\n",
    "    \n",
    "    if choice == 1:\n",
    "        create_stack()\n",
    "    elif choice == 2:\n",
    "        pop_element()\n",
    "    elif choice == 3:\n",
    "        break\n",
    "    else:\n",
    "        print(\"Choose the correct operation\")\n",
    "        \n",
    "        \n",
    "\n",
    "        "
   ]
  },
  {
   "cell_type": "code",
   "execution_count": 9,
   "id": "2bb940d0",
   "metadata": {},
   "outputs": [
    {
     "name": "stdout",
     "output_type": "stream",
     "text": [
      "Select the opration 1.Push, 2.Pop, 3.exit\n",
      "enter the choice:1\n",
      "Enter the element you want to enter :20\n"
     ]
    },
    {
     "ename": "AttributeError",
     "evalue": "'NoneType' object has no attribute 'push'",
     "output_type": "error",
     "traceback": [
      "\u001b[1;31m---------------------------------------------------------------------------\u001b[0m",
      "\u001b[1;31mAttributeError\u001b[0m                            Traceback (most recent call last)",
      "\u001b[1;32m~\\AppData\\Local\\Temp\\ipykernel_23476\\321602172.py\u001b[0m in \u001b[0;36m<module>\u001b[1;34m\u001b[0m\n\u001b[1;32m----> 1\u001b[1;33m \u001b[1;32mclass\u001b[0m \u001b[0mcreate_stack\u001b[0m\u001b[1;33m:\u001b[0m\u001b[1;33m\u001b[0m\u001b[0m\n\u001b[0m\u001b[0;32m      2\u001b[0m     \u001b[1;32mdef\u001b[0m \u001b[0m__init__\u001b[0m\u001b[1;33m(\u001b[0m\u001b[0mself\u001b[0m\u001b[1;33m)\u001b[0m\u001b[1;33m:\u001b[0m\u001b[1;33m\u001b[0m\u001b[0m\n\u001b[0;32m      3\u001b[0m         \u001b[0mself\u001b[0m\u001b[1;33m.\u001b[0m\u001b[0mstack\u001b[0m \u001b[1;33m=\u001b[0m \u001b[1;33m[\u001b[0m\u001b[1;32mNone\u001b[0m\u001b[1;33m]\u001b[0m\u001b[1;33m\u001b[0m\u001b[0m\n\u001b[0;32m      4\u001b[0m \u001b[1;33m\u001b[0m\u001b[0m\n\u001b[0;32m      5\u001b[0m     \u001b[1;32mdef\u001b[0m \u001b[0mpush\u001b[0m\u001b[1;33m(\u001b[0m\u001b[0mself\u001b[0m\u001b[1;33m)\u001b[0m\u001b[1;33m:\u001b[0m\u001b[1;33m\u001b[0m\u001b[0m\n",
      "\u001b[1;32m~\\AppData\\Local\\Temp\\ipykernel_23476\\321602172.py\u001b[0m in \u001b[0;36mcreate_stack\u001b[1;34m()\u001b[0m\n\u001b[0;32m     21\u001b[0m         \u001b[0mobj\u001b[0m \u001b[1;33m=\u001b[0m \u001b[0mcreate_stack\u001b[0m\u001b[1;33m(\u001b[0m\u001b[1;33m)\u001b[0m\u001b[1;33m\u001b[0m\u001b[0m\n\u001b[0;32m     22\u001b[0m         \u001b[1;32mif\u001b[0m \u001b[0mchoice\u001b[0m \u001b[1;33m==\u001b[0m \u001b[1;36m1\u001b[0m\u001b[1;33m:\u001b[0m\u001b[1;33m\u001b[0m\u001b[0m\n\u001b[1;32m---> 23\u001b[1;33m             \u001b[0mobj\u001b[0m\u001b[1;33m.\u001b[0m\u001b[0mpush\u001b[0m\u001b[1;33m\u001b[0m\u001b[0m\n\u001b[0m\u001b[0;32m     24\u001b[0m         \u001b[1;32melif\u001b[0m \u001b[0mchoice\u001b[0m \u001b[1;33m==\u001b[0m \u001b[1;36m2\u001b[0m\u001b[1;33m:\u001b[0m\u001b[1;33m\u001b[0m\u001b[0m\n\u001b[0;32m     25\u001b[0m             \u001b[0mobj\u001b[0m\u001b[1;33m.\u001b[0m\u001b[0mpop\u001b[0m\u001b[1;33m\u001b[0m\u001b[0m\n",
      "\u001b[1;31mAttributeError\u001b[0m: 'NoneType' object has no attribute 'push'"
     ]
    }
   ],
   "source": [
    "class create_stack:\n",
    "    def __init__(self):\n",
    "        self.stack = [None]\n",
    "            \n",
    "    def push(self):\n",
    "        element = input(\"Enter the element you want to enter :\")\n",
    "        self.stack.append(element)\n",
    "        \n",
    "    def pop(self):\n",
    "        \n",
    "        if not self.stack:\n",
    "            print(\"Empty List\")\n",
    "        else:\n",
    "            element = stack.pop()\n",
    "            print(\"The Deleted Element is\", element)\n",
    "            print(self.stack)\n",
    "            \n",
    "    while True:\n",
    "        print(\"Select the opration 1.Push, 2.Pop, 3.exit\")\n",
    "        choice = int(input(\"enter the choice:\"))\n",
    "        obj = create_stack()\n",
    "        if choice == 1:\n",
    "            obj.push\n",
    "        elif choice == 2:\n",
    "            obj.pop\n",
    "        elif choice == 3:\n",
    "            break\n",
    "        else:\n",
    "            print(\"Choose the correct operation\")\n",
    "            \n",
    "        "
   ]
  },
  {
   "cell_type": "code",
   "execution_count": null,
   "id": "3d0823d3",
   "metadata": {},
   "outputs": [],
   "source": []
  }
 ],
 "metadata": {
  "kernelspec": {
   "display_name": "Python 3 (ipykernel)",
   "language": "python",
   "name": "python3"
  },
  "language_info": {
   "codemirror_mode": {
    "name": "ipython",
    "version": 3
   },
   "file_extension": ".py",
   "mimetype": "text/x-python",
   "name": "python",
   "nbconvert_exporter": "python",
   "pygments_lexer": "ipython3",
   "version": "3.7.0"
  }
 },
 "nbformat": 4,
 "nbformat_minor": 5
}
